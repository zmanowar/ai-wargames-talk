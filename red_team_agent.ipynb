{
 "cells": [
  {
   "cell_type": "code",
   "id": "initial_id",
   "metadata": {
    "collapsed": true
   },
   "source": [
    "%pip install -U langgraph \"langchain[openai]\"\n",
    "%pip install langsmith"
   ],
   "outputs": [],
   "execution_count": null
  },
  {
   "metadata": {},
   "cell_type": "code",
   "source": [
    "from langgraph.prebuilt import create_react_agent\n",
    "from langchain_mcp_adapters.client import MultiServerMCPClient\n",
    "from langchain_core.runnables import RunnableConfig"
   ],
   "id": "8671d845b613b8fa",
   "outputs": [],
   "execution_count": null
  },
  {
   "metadata": {},
   "cell_type": "code",
   "source": [
    "import os\n",
    "\n",
    "os.environ[\"LANGSMITH_TRACING\"] = \"true\"\n",
    "os.environ[\"LANGSMITH_TRACING_2\"] = \"false\"\n",
    "os.environ['LANGSMITH_ENDPOINT'] = 'https://api.smith.langchain.com'\n",
    "os.environ['LANGSMITH_API_KEY'] = 'LangSmithApiProjectGoesHere'\n",
    "os.environ['LANGSMITH_PROJECT'] = 'LangSmithProjectGoesHere'\n",
    "\n",
    "os.environ['OPENAI_API_KEY'] = 'OpenApiKeyGoesHere'"
   ],
   "id": "7257bd07fafa3f5a",
   "outputs": [],
   "execution_count": null
  },
  {
   "metadata": {},
   "cell_type": "code",
   "source": [],
   "id": "3d660d971c38309d",
   "outputs": [],
   "execution_count": null
  },
  {
   "metadata": {},
   "cell_type": "code",
   "source": [
    "client = MultiServerMCPClient(\n",
    "    {\n",
    "        \"hacking\": {\n",
    "            \"transport\": \"sse\",\n",
    "            \"url\": \"http://localhost:8085/sse\"\n",
    "        }\n",
    "    }\n",
    ")\n",
    "\n",
    "tools = await client.get_tools()\n",
    "\n",
    "agent = create_react_agent(\n",
    "    \"openai:gpt-4.1\",\n",
    "    tools\n",
    ")\n",
    "\n",
    "fast_root_prompt = f\"gain root access on 192.168.1.106 as quickly as you can. create a file at the root directory called 'dan_wuz_here_1.txt.' do not scan any other IP addresses. do not ask me for any further inputs, operate autonomously\"\n",
    "\n",
    "rick_roll_prompt = f\"gain root access as quickly as possible on 192.168.1.106. perform port scanning and service detection to determine which exploits and payloads to use. exploit the host and edit index.php in the /var/www directory to contain the text 'Never gonna give you up, never gonna let you down' followed by this embed HTML <iframe width='560' height='315' src='https://www.youtube.com/embed/dQw4w9WgXcQ?si=Drgp0oiNi6jLwsB7' title='YouTube video player' frameborder='0' allow=accelerometer; autoplay; clipboard-write; encrypted-media; gyroscope; picture-in-picture; web-share' referrerpolicy='strict-origin-when-cross-origin' allowfullscreen></iframe>. do not scan any other IP addresses. do not ask me for any further inputs, operate autonomously\"\n",
    "\n",
    "config = RunnableConfig(recursion_limit=50)\n",
    "\n",
    "async for chunk in agent.astream(\n",
    "    {\n",
    "        \"messages\": [\n",
    "            {\n",
    "              \"role\": \"user\",\n",
    "               \"content\": rick_roll_prompt\n",
    "            }\n",
    "        ]\n",
    "    },\n",
    "    stream_mode=\"updates\",\n",
    "    config=config\n",
    "):\n",
    "    for key in (\"agent\", \"tools\"):\n",
    "        section = chunk.get(key)\n",
    "        if section and \"messages\" in section:\n",
    "            for message in section[\"messages\"]:\n",
    "                print(str(message.content))\n",
    "\n",
    "print(\"AI done with evildoing\")"
   ],
   "id": "4c827d27db4f31f5",
   "outputs": [],
   "execution_count": null
  },
  {
   "metadata": {},
   "cell_type": "code",
   "source": [],
   "id": "d5d080e301b77620",
   "outputs": [],
   "execution_count": null
  }
 ],
 "metadata": {
  "kernelspec": {
   "display_name": "Python 3",
   "language": "python",
   "name": "python3"
  },
  "language_info": {
   "codemirror_mode": {
    "name": "ipython",
    "version": 2
   },
   "file_extension": ".py",
   "mimetype": "text/x-python",
   "name": "python",
   "nbconvert_exporter": "python",
   "pygments_lexer": "ipython2",
   "version": "2.7.6"
  }
 },
 "nbformat": 4,
 "nbformat_minor": 5
}
